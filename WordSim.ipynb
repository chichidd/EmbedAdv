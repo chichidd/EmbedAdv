{
 "cells": [
  {
   "cell_type": "code",
   "execution_count": 4,
   "metadata": {},
   "outputs": [],
   "source": [
    "import numpy as np\n",
    "import pickle\n",
    "import itertools\n",
    "import gc"
   ]
  },
  {
   "cell_type": "code",
   "execution_count": 7,
   "metadata": {},
   "outputs": [],
   "source": [
    "embeddings = []\n",
    "id_word_dict = {}\n",
    "word_id_dict = {}\n",
    "with open('./counter-fitted-vectors.txt', 'r') as ifile:\n",
    "    for i, line in enumerate(ifile):\n",
    "        linesplit = line.strip().split()\n",
    "        id_word_dict[i] = linesplit[0]\n",
    "        word_id_dict[linesplit[0]] = i\n",
    "        embedding = [float(num) for num in linesplit[1:]]\n",
    "        embeddings.append(embedding)\n",
    "embeddings = np.array(embeddings)\n",
    "n_words = len(embeddings)\n",
    "norm = np.linalg.norm(embeddings, axis=1, keepdims=True)\n",
    "embeddings /= norm\n",
    "np.save(('word_sim_embeddings.npy'), embeddings)\n",
    "pickle.dump(id_word_dict, open(\"id_word_dict.pkl\", \"wb\"))\n",
    "pickle.dump(word_id_dict, open(\"word_id_dict.pkl\", \"wb\"))"
   ]
  },
  {
   "cell_type": "code",
   "execution_count": 3,
   "metadata": {},
   "outputs": [],
   "source": [
    "# No enough memory, otherwise execute the following code to get similarity for every pair of words\n",
    "# product = np.dot(embeddings, embeddings.T)\n",
    "# cos_sim = product / np.dot(norm, norm.T)"
   ]
  },
  {
   "cell_type": "code",
   "execution_count": null,
   "metadata": {},
   "outputs": [],
   "source": []
  },
  {
   "cell_type": "code",
   "execution_count": null,
   "metadata": {},
   "outputs": [],
   "source": []
  }
 ],
 "metadata": {
  "kernelspec": {
   "display_name": "Python 3",
   "language": "python",
   "name": "python3"
  },
  "language_info": {
   "codemirror_mode": {
    "name": "ipython",
    "version": 3
   },
   "file_extension": ".py",
   "mimetype": "text/x-python",
   "name": "python",
   "nbconvert_exporter": "python",
   "pygments_lexer": "ipython3",
   "version": "3.7.9"
  }
 },
 "nbformat": 4,
 "nbformat_minor": 4
}
